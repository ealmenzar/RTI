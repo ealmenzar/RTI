{
  "nbformat": 4,
  "nbformat_minor": 0,
  "metadata": {
    "colab": {
      "name": "RTI_Hopfield_Hebbian.ipynb",
      "provenance": [],
      "collapsed_sections": []
    },
    "kernelspec": {
      "name": "python3",
      "display_name": "Python 3"
    }
  },
  "cells": [
    {
      "cell_type": "code",
      "metadata": {
        "id": "465aktBB4Y8W",
        "colab_type": "code",
        "colab": {}
      },
      "source": [
        "%matplotlib inline\n",
        "import matplotlib.pyplot as plt\n",
        "import numpy as np"
      ],
      "execution_count": 0,
      "outputs": []
    },
    {
      "cell_type": "markdown",
      "metadata": {
        "id": "KaIpNe5U4jNG",
        "colab_type": "text"
      },
      "source": [
        "Hebbian rule"
      ]
    },
    {
      "cell_type": "code",
      "metadata": {
        "id": "4gIiMLAC4k_j",
        "colab_type": "code",
        "colab": {
          "base_uri": "https://localhost:8080/",
          "height": 282
        },
        "outputId": "274e9850-7802-4d7e-c8ca-7adce35dec30"
      },
      "source": [
        "learning_rate = 0.0001\n",
        "Wab = 0\n",
        "\n",
        "log_act = []\n",
        "log_wei = []\n",
        "for i in range(30):\n",
        "  Aa = np.random.uniform(0.4, 0.8)             # Aa = neuron assocaited to meat. We are showing the meat.\n",
        "  if i > 10: Ab = np.random.uniform(0.4, 0.8)  # Ab = neuron assocaited to the bell. The bell is ringing.\n",
        "  else: Ab = 0.0                               # Ab = neuron assocaited to the bell. The bell is not ringing.\n",
        "  log_act.append(Ab)\n",
        "  Wab += Aa*Ab*learning_rate\n",
        "  log_wei.append(Wab)\n",
        "\n",
        "plt.plot(log_wei)"
      ],
      "execution_count": 7,
      "outputs": [
        {
          "output_type": "execute_result",
          "data": {
            "text/plain": [
              "[<matplotlib.lines.Line2D at 0x7f93a8c1d160>]"
            ]
          },
          "metadata": {
            "tags": []
          },
          "execution_count": 7
        },
        {
          "output_type": "display_data",
          "data": {
            "image/png": "[encoded data removed]",
            "text/plain": [
              "<Figure size 432x288 with 1 Axes>"
            ]
          },
          "metadata": {
            "tags": []
          }
        }
      ]
    },
    {
      "cell_type": "code",
      "metadata": {
        "id": "mBscqNb25K7W",
        "colab_type": "code",
        "colab": {
          "base_uri": "https://localhost:8080/",
          "height": 34
        },
        "outputId": "d02c51f8-77c9-4038-9b03-a7f2edb4e643"
      },
      "source": [
        "Ab = 0.8\n",
        "Ab * Wab  # Aa"
      ],
      "execution_count": 9,
      "outputs": [
        {
          "output_type": "execute_result",
          "data": {
            "text/plain": [
              "0.0005623113410338853"
            ]
          },
          "metadata": {
            "tags": []
          },
          "execution_count": 9
        }
      ]
    },
    {
      "cell_type": "markdown",
      "metadata": {
        "id": "culUFCeL9D6Z",
        "colab_type": "text"
      },
      "source": [
        "Hopfield network"
      ]
    },
    {
      "cell_type": "code",
      "metadata": {
        "id": "kdD_Iu-48oat",
        "colab_type": "code",
        "colab": {}
      },
      "source": [
        "A = \"\"\"\n",
        ".....\n",
        "X...X\n",
        "X...X\n",
        "X...X\n",
        "XXXXX\n",
        "\"\"\"\n",
        "\n",
        "B = \"\"\"\n",
        "XXXXX\n",
        "..X..\n",
        "..X..\n",
        "..X..\n",
        "..X..\n",
        "\"\"\"\n"
      ],
      "execution_count": 0,
      "outputs": []
    },
    {
      "cell_type": "code",
      "metadata": {
        "id": "NvAk8dTQ9Orr",
        "colab_type": "code",
        "colab": {
          "base_uri": "https://localhost:8080/",
          "height": 51
        },
        "outputId": "3f167067-f7d8-470a-da08-bef4da17beca"
      },
      "source": [
        "# I can convert A (which is a string) to a pattern\n",
        "def to_pattern(letter):\n",
        "  return np.array([+1 if c == \"X\" else -1 for c in letter.replace(\"\\n\",\"\")])\n",
        "\n",
        "to_pattern(A)"
      ],
      "execution_count": 23,
      "outputs": [
        {
          "output_type": "execute_result",
          "data": {
            "text/plain": [
              "array([ 1,  1,  1,  1,  1, -1, -1,  1, -1, -1, -1, -1,  1, -1, -1, -1, -1,\n",
              "        1, -1, -1, -1, -1,  1, -1, -1])"
            ]
          },
          "metadata": {
            "tags": []
          },
          "execution_count": 23
        }
      ]
    },
    {
      "cell_type": "code",
      "metadata": {
        "id": "NgrxGPBz9lHW",
        "colab_type": "code",
        "colab": {
          "base_uri": "https://localhost:8080/",
          "height": 265
        },
        "outputId": "8c45f689-90f9-4c97-baba-cb1b4f9efbc8"
      },
      "source": [
        "def display_pattern(pat):\n",
        "  plt.imshow(pat.reshape(5,5), cmap=plt.cm.binary)\n",
        "\n",
        "display_pattern(to_pattern(A))\n",
        "display_pattern(to_pattern(B))"
      ],
      "execution_count": 24,
      "outputs": [
        {
          "output_type": "display_data",
          "data": {
            "image/png": "[encoded data removed]",
            "text/plain": [
              "<Figure size 432x288 with 1 Axes>"
            ]
          },
          "metadata": {
            "tags": []
          }
        }
      ]
    },
    {
      "cell_type": "code",
      "metadata": {
        "id": "km4doSbx92hF",
        "colab_type": "code",
        "colab": {}
      },
      "source": [
        "pat = np.array([to_pattern(A), to_pattern(B)])  # matrix of patterns"
      ],
      "execution_count": 0,
      "outputs": []
    },
    {
      "cell_type": "code",
      "metadata": {
        "id": "DqbVeZvs_H9Q",
        "colab_type": "code",
        "colab": {}
      },
      "source": [
        "\"\"\"\n",
        "Restrictions of connections in a Hopfield net:\n",
        "  w_ii = 0 for all i        (no unit has a connection with itself)\n",
        "  w_ij = w_ji for all i,j   (connections are symmetric)\n",
        "\n",
        "This function return the matrix of weights that achives this restrictions\n",
        "The value for each weight is defined by Hebbian rule\n",
        "\"\"\"\n",
        "\n",
        "def train(pat):\n",
        "  r, c = pat.shape          # returns (2, 5), so r = 2 and c = 5\n",
        "  W = np.zeros((c, c))      # matrix of zeros of size 5x5\n",
        "  for p in pat:\n",
        "    W = W + np.outer(p, p)  # normalization: outer(p, p) compute the outer product of p and p\n",
        "\n",
        "  W[np.diag_indices(c)] = 0 # diag_indices creates a set of indices to access the diagonal of a (c, c) array (where c = 5),\n",
        "                            # so here we turn the diagonal of the matrix W into 0\n",
        "  return W/r\n",
        "\n",
        "\n",
        "\"\"\"\n",
        "Updating units in the Hopfield network is performed using the following rule:\n",
        "  if dot(s_j, w_ij) > 0: s_i = +1 \n",
        "  otherwise: s_i = -1\n",
        "\n",
        "This function return the pattern updated\n",
        "\"\"\"\n",
        "\n",
        "def recall(W, pat, steps=15):\n",
        "  for _ in range(steps):\n",
        "    display_pattern(pat)\n",
        "    plt.show()\n",
        "    net_act = np.dot(pat, W)\n",
        "    net_act[net_act<0] = -1\n",
        "    net_act[net_act>=0] = 1\n",
        "    pat = net_act\n",
        "  return pat"
      ],
      "execution_count": 0,
      "outputs": []
    },
    {
      "cell_type": "code",
      "metadata": {
        "id": "3zR_X_ZaA7DL",
        "colab_type": "code",
        "colab": {}
      },
      "source": [
        "W = train(pat)"
      ],
      "execution_count": 0,
      "outputs": []
    },
    {
      "cell_type": "code",
      "metadata": {
        "id": "9ILnvLx9BNZG",
        "colab_type": "code",
        "colab": {}
      },
      "source": [
        "# Noisy"
      ],
      "execution_count": 0,
      "outputs": []
    },
    {
      "cell_type": "code",
      "metadata": {
        "id": "QDw9zCghCoCD",
        "colab_type": "code",
        "colab": {
          "base_uri": "https://localhost:8080/",
          "height": 265
        },
        "outputId": "29494ef5-ede6-4af1-e317-5b5d79b8f745"
      },
      "source": [
        "Apat = to_pattern(A)\n",
        "display_pattern(Apat)"
      ],
      "execution_count": 82,
      "outputs": [
        {
          "output_type": "display_data",
          "data": {
            "image/png": "[encoded data removed]",
            "text/plain": [
              "<Figure size 432x288 with 1 Axes>"
            ]
          },
          "metadata": {
            "tags": []
          }
        }
      ]
    },
    {
      "cell_type": "code",
      "metadata": {
        "id": "HDDpWcVJCwKT",
        "colab_type": "code",
        "colab": {
          "base_uri": "https://localhost:8080/",
          "height": 265
        },
        "outputId": "63eae9e4-12c6-4a63-b140-17fd0f943be0"
      },
      "source": [
        "Ad = np.copy(Apat)\n",
        "Ad[[1,4,3,8]] *= -1\n",
        "\n",
        "display_pattern(Ad)"
      ],
      "execution_count": 83,
      "outputs": [
        {
          "output_type": "display_data",
          "data": {
            "image/png": "[encoded data removed]",
            "text/plain": [
              "<Figure size 432x288 with 1 Axes>"
            ]
          },
          "metadata": {
            "tags": []
          }
        }
      ]
    },
    {
      "cell_type": "code",
      "metadata": {
        "id": "nZHFjRVbCxKF",
        "colab_type": "code",
        "colab": {
          "base_uri": "https://localhost:8080/",
          "height": 761
        },
        "outputId": "3666e49c-e5bc-4669-f901-7ee651fedb14"
      },
      "source": [
        "nn = recall(W, Ad, steps=3)\n",
        "# display_pattern(nn)"
      ],
      "execution_count": 95,
      "outputs": [
        {
          "output_type": "display_data",
          "data": {
            "image/png": "[encoded data removed]",
            "text/plain": [
              "<Figure size 432x288 with 1 Axes>"
            ]
          },
          "metadata": {
            "tags": []
          }
        },
        {
          "output_type": "display_data",
          "data": {
            "image/png": "[encoded data removed]",
            "text/plain": [
              "<Figure size 432x288 with 1 Axes>"
            ]
          },
          "metadata": {
            "tags": []
          }
        },
        {
          "output_type": "display_data",
          "data": {
            "image/png": "[encoded data removed]",
            "text/plain": [
              "<Figure size 432x288 with 1 Axes>"
            ]
          },
          "metadata": {
            "tags": []
          }
        }
      ]
    },
    {
      "cell_type": "code",
      "metadata": {
        "id": "C-eP2bHnDKmG",
        "colab_type": "code",
        "colab": {}
      },
      "source": [
        ""
      ],
      "execution_count": 0,
      "outputs": []
    }
  ]
}